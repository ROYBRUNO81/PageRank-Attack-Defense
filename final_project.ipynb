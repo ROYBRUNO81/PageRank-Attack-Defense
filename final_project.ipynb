{
 "cells": [
  {
   "cell_type": "code",
   "execution_count": 4,
   "metadata": {},
   "outputs": [],
   "source": [
    "import networkx as nx\n",
    "\n",
    "# Path to your local edge-list file\n",
    "path = \"web-Google.txt\"\n",
    "\n",
    "# Read into a directed graph\n",
    "G = nx.read_edgelist(\n",
    "    path,\n",
    "    comments=\"#\",            # ignore SNAP header lines\n",
    "    delimiter=\"\\t\",          # tab-separated\n",
    "    create_using=nx.DiGraph(),  # build a DiGraph\n",
    "    nodetype=int             # cast node IDs to int\n",
    ")"
   ]
  },
  {
   "cell_type": "code",
   "execution_count": 6,
   "metadata": {},
   "outputs": [
    {
     "name": "stdout",
     "output_type": "stream",
     "text": [
      "Nodes: 875713\n",
      "Edges: 5105039\n"
     ]
    }
   ],
   "source": [
    "# Print basic info manually\n",
    "print(f\"Nodes: {G.number_of_nodes()}\")\n",
    "print(f\"Edges: {G.number_of_edges()}\")"
   ]
  },
  {
   "cell_type": "code",
   "execution_count": 7,
   "metadata": {},
   "outputs": [
    {
     "name": "stdout",
     "output_type": "stream",
     "text": [
      "Node 163075: 0.000952\n",
      "Node 597621: 0.000901\n",
      "Node 537039: 0.000895\n",
      "Node 837478: 0.000876\n",
      "Node 885605: 0.000822\n"
     ]
    }
   ],
   "source": [
    "# Compute PageRank\n",
    "pr = nx.pagerank(G, alpha=0.85, tol=1e-6, max_iter=100)\n",
    "\n",
    "# Example: print the top 5 nodes by PageRank\n",
    "top5 = sorted(pr.items(), key=lambda x: x[1], reverse=True)[:5]\n",
    "for node, score in top5:\n",
    "    print(f\"Node {node}: {score:.6f}\")"
   ]
  },
  {
   "cell_type": "code",
   "execution_count": null,
   "metadata": {},
   "outputs": [],
   "source": []
  }
 ],
 "metadata": {
  "kernelspec": {
   "display_name": "Python 3",
   "language": "python",
   "name": "python3"
  },
  "language_info": {
   "codemirror_mode": {
    "name": "ipython",
    "version": 3
   },
   "file_extension": ".py",
   "mimetype": "text/x-python",
   "name": "python",
   "nbconvert_exporter": "python",
   "pygments_lexer": "ipython3",
   "version": "3.12.3"
  }
 },
 "nbformat": 4,
 "nbformat_minor": 2
}
