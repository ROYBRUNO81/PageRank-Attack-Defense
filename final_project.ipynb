{
 "cells": [
  {
   "cell_type": "code",
   "execution_count": 31,
   "metadata": {},
   "outputs": [],
   "source": [
    "import networkx as nx\n",
    "\n",
    "# Path to your local edge-list file\n",
    "path = \"web-Google.txt\"\n",
    "\n",
    "# Read into a directed graph\n",
    "G = nx.read_edgelist(\n",
    "    path,\n",
    "    comments=\"#\",            # ignore SNAP header lines\n",
    "    delimiter=\"\\t\",          # tab-separated\n",
    "    create_using=nx.DiGraph(),  # build a DiGraph\n",
    "    nodetype=int             # cast node IDs to int\n",
    ")"
   ]
  },
  {
   "cell_type": "code",
   "execution_count": 32,
   "metadata": {},
   "outputs": [
    {
     "name": "stdout",
     "output_type": "stream",
     "text": [
      "Nodes: 875713\n",
      "Edges: 5105039\n"
     ]
    }
   ],
   "source": [
    "# Print basic info manually\n",
    "print(f\"Nodes: {G.number_of_nodes()}\")\n",
    "print(f\"Edges: {G.number_of_edges()}\")"
   ]
  },
  {
   "cell_type": "code",
   "execution_count": 35,
   "metadata": {},
   "outputs": [
    {
     "name": "stdout",
     "output_type": "stream",
     "text": [
      "Baseline → node 6 has PageRank 2.828111e-07\n",
      "Out-degree of target: 3\n",
      "In-degree of target: 0\n"
     ]
    }
   ],
   "source": [
    "import statistics\n",
    "\n",
    "# Compute PageRank\n",
    "pr = nx.pagerank(G, alpha=0.85, tol=1e-6, max_iter=100)\n",
    "\n",
    "target, orig_score = min(pr.items(), key=lambda kv: kv[1])\n",
    "print(f\"Baseline → node {target} has PageRank {orig_score:.6e}\")\n",
    "\n",
    "print(f\"Out-degree of target: {G.out_degree(target)}\")\n",
    "print(f\"In-degree of target: {G.in_degree(target)}\")"
   ]
  },
  {
   "cell_type": "code",
   "execution_count": 38,
   "metadata": {},
   "outputs": [
    {
     "name": "stdout",
     "output_type": "stream",
     "text": [
      "Node with max PageRank: 163075 (score = 0.000952)\n",
      "Out-degree of max_node: 36\n",
      "In-degree of max_node: 4731\n"
     ]
    }
   ],
   "source": [
    "max_node = max(pr, key=pr.get)\n",
    "max_score = pr[max_node]\n",
    "print(f\"Node with max PageRank: {max_node} (score = {max_score:.6f})\")\n",
    "\n",
    "print(f\"Out-degree of max_node: {G.out_degree(max_node)}\")\n",
    "print(f\"In-degree of max_node: {G.in_degree(max_node)}\")"
   ]
  },
  {
   "cell_type": "code",
   "execution_count": 37,
   "metadata": {},
   "outputs": [],
   "source": [
    "# Simulate a link-farm attack:\n",
    "# Create 100 new nodes each pointing at target\n",
    "G_attack = G.copy()\n",
    "max_id = max(G_attack.nodes())\n",
    "new_nodes = list(range(max_id+1, max_id+1+1000))\n",
    "for n in new_nodes:\n",
    "    G_attack.add_edge(n, target)"
   ]
  },
  {
   "cell_type": "code",
   "execution_count": 39,
   "metadata": {},
   "outputs": [
    {
     "name": "stdout",
     "output_type": "stream",
     "text": [
      "After attack → node 6 has PageRank 0.000273794\n"
     ]
    }
   ],
   "source": [
    "pr_attack = nx.pagerank(G_attack, alpha=0.85, tol=1e-6, max_iter=100)\n",
    "atk_score = pr_attack[target]\n",
    "print(f\"After attack → node {target} has PageRank {atk_score:.9f}\")"
   ]
  },
  {
   "cell_type": "code",
   "execution_count": 43,
   "metadata": {},
   "outputs": [
    {
     "name": "stdout",
     "output_type": "stream",
     "text": [
      "Node with max PageRank: 163075 (score = 0.000952)\n"
     ]
    }
   ],
   "source": [
    "max_node = max(pr_attack, key=pr_attack.get)\n",
    "max_score = pr[max_node]\n",
    "print(f\"Node with max PageRank: {max_node} (score = {max_score:.6f})\")"
   ]
  },
  {
   "cell_type": "code",
   "execution_count": 41,
   "metadata": {},
   "outputs": [
    {
     "data": {
      "text/plain": [
       "38564"
      ]
     },
     "execution_count": 41,
     "metadata": {},
     "output_type": "execute_result"
    }
   ],
   "source": [
    "in_thresh=0  # max in-degree to consider “spammy”\n",
    "out_thresh=1  # max out-degree to consider “spammy”\n",
    "# find spam nodes\n",
    "spam_nodes = [\n",
    "        u for u in G_attack.nodes()\n",
    "        if G_attack.in_degree(u) <= in_thresh\n",
    "           and 1 <= G_attack.out_degree(u) <= out_thresh\n",
    "    ]\n",
    "len(spam_nodes)  # number of spam nodes"
   ]
  },
  {
   "cell_type": "code",
   "execution_count": 49,
   "metadata": {},
   "outputs": [
    {
     "name": "stdout",
     "output_type": "stream",
     "text": [
      "Before defense → PR[6] = 2.737939e-04\n",
      "After weighted defense → PR[6] = 3.644251e-07\n"
     ]
    }
   ],
   "source": [
    "# Remove the spam‐to‐victim edges entirely\n",
    "G_prune = G_attack.copy()\n",
    "edges_to_remove = [\n",
    "    (u, v) for u in spam_nodes for v in G_attack.successors(u)\n",
    "]\n",
    "G_prune.remove_edges_from(edges_to_remove)\n",
    "\n",
    "# 2. Recompute ordinary PageRank\n",
    "pr_prune = nx.pagerank(G_prune, alpha=0.85, tol=1e-6, max_iter=100)"
   ]
  },
  {
   "cell_type": "code",
   "execution_count": 51,
   "metadata": {},
   "outputs": [
    {
     "name": "stdout",
     "output_type": "stream",
     "text": [
      "Before defense → PR[6] = 0.000273794\n",
      "After weighted defense → PR[6] = 0.000000364\n"
     ]
    }
   ],
   "source": [
    "print(f\"Before defense → PR[{target}] = {pr_attack[target]:.9f}\")\n",
    "print(f\"After weighted defense → PR[{target}] = {pr_prune[target]:.9f}\")"
   ]
  }
 ],
 "metadata": {
  "kernelspec": {
   "display_name": "Python 3",
   "language": "python",
   "name": "python3"
  },
  "language_info": {
   "codemirror_mode": {
    "name": "ipython",
    "version": 3
   },
   "file_extension": ".py",
   "mimetype": "text/x-python",
   "name": "python",
   "nbconvert_exporter": "python",
   "pygments_lexer": "ipython3",
   "version": "3.12.3"
  }
 },
 "nbformat": 4,
 "nbformat_minor": 2
}
