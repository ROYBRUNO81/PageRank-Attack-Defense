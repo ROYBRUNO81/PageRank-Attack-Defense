{
 "cells": [
  {
   "cell_type": "code",
   "execution_count": 31,
   "metadata": {},
   "outputs": [],
   "source": [
    "import networkx as nx\n",
    "\n",
    "# Path to local edge-list file\n",
    "path = \"web-Google.txt\"\n",
    "\n",
    "# Read into a directed graph\n",
    "G = nx.read_edgelist(\n",
    "    path,\n",
    "    comments=\"#\",            # ignore SNAP header lines\n",
    "    delimiter=\"\\t\",          # tab-separated\n",
    "    create_using=nx.DiGraph(),  # build a DiGraph\n",
    "    nodetype=int             # cast node IDs to int\n",
    ")"
   ]
  },
  {
   "cell_type": "code",
   "execution_count": 32,
   "metadata": {},
   "outputs": [
    {
     "name": "stdout",
     "output_type": "stream",
     "text": [
      "Nodes: 875713\n",
      "Edges: 5105039\n"
     ]
    }
   ],
   "source": [
    "# Print basic info\n",
    "print(f\"Nodes: {G.number_of_nodes()}\")\n",
    "print(f\"Edges: {G.number_of_edges()}\")"
   ]
  },
  {
   "cell_type": "code",
   "execution_count": 35,
   "metadata": {},
   "outputs": [
    {
     "name": "stdout",
     "output_type": "stream",
     "text": [
      "Baseline → node 6 has PageRank 2.828111e-07\n",
      "Out-degree of target: 3\n",
      "In-degree of target: 0\n"
     ]
    }
   ],
   "source": [
    "import statistics\n",
    "\n",
    "# Compute PageRank\n",
    "pr = nx.pagerank(G, alpha=0.85, tol=1e-6, max_iter=100)\n",
    "\n",
    "target, orig_score = min(pr.items(), key=lambda kv: kv[1])\n",
    "print(f\"Baseline → node {target} has PageRank {orig_score:.6e}\")\n",
    "\n",
    "print(f\"Out-degree of target: {G.out_degree(target)}\")\n",
    "print(f\"In-degree of target: {G.in_degree(target)}\")"
   ]
  },
  {
   "cell_type": "code",
   "execution_count": 38,
   "metadata": {},
   "outputs": [
    {
     "name": "stdout",
     "output_type": "stream",
     "text": [
      "Node with max PageRank: 163075 (score = 0.000952)\n",
      "Out-degree of max_node: 36\n",
      "In-degree of max_node: 4731\n"
     ]
    }
   ],
   "source": [
    "max_node = max(pr, key=pr.get)\n",
    "max_score = pr[max_node]\n",
    "print(f\"Node with max PageRank: {max_node} (score = {max_score:.6f})\")\n",
    "\n",
    "print(f\"Out-degree of max_node: {G.out_degree(max_node)}\")\n",
    "print(f\"In-degree of max_node: {G.in_degree(max_node)}\")"
   ]
  },
  {
   "cell_type": "code",
   "execution_count": 37,
   "metadata": {},
   "outputs": [],
   "source": [
    "# Simulate a link-farm attack:\n",
    "# Create 100 new nodes each pointing at target (node 6)\n",
    "G_attack = G.copy()\n",
    "max_id = max(G_attack.nodes())\n",
    "new_nodes = list(range(max_id+1, max_id+1+1000))\n",
    "for n in new_nodes:\n",
    "    G_attack.add_edge(n, target)"
   ]
  },
  {
   "cell_type": "code",
   "execution_count": 39,
   "metadata": {},
   "outputs": [
    {
     "name": "stdout",
     "output_type": "stream",
     "text": [
      "After attack → node 6 has PageRank 0.000273794\n"
     ]
    }
   ],
   "source": [
    "pr_attack = nx.pagerank(G_attack, alpha=0.85, tol=1e-6, max_iter=100)\n",
    "atk_score = pr_attack[target]\n",
    "print(f\"After attack → node {target} has PageRank {atk_score:.9f}\")"
   ]
  },
  {
   "cell_type": "code",
   "execution_count": 43,
   "metadata": {},
   "outputs": [
    {
     "name": "stdout",
     "output_type": "stream",
     "text": [
      "Node with max PageRank: 163075 (score = 0.000952)\n"
     ]
    }
   ],
   "source": [
    "max_node = max(pr_attack, key=pr_attack.get)\n",
    "max_score = pr[max_node]\n",
    "print(f\"Node with max PageRank: {max_node} (score = {max_score:.6f})\")"
   ]
  },
  {
   "cell_type": "code",
   "execution_count": 41,
   "metadata": {},
   "outputs": [
    {
     "data": {
      "text/plain": [
       "38564"
      ]
     },
     "execution_count": 41,
     "metadata": {},
     "output_type": "execute_result"
    }
   ],
   "source": [
    "in_thresh=0  # max in-degree to consider “spammy”\n",
    "out_thresh=1  # max out-degree to consider “spammy”\n",
    "# find spam nodes\n",
    "spam_nodes = [\n",
    "        u for u in G_attack.nodes()\n",
    "        if G_attack.in_degree(u) <= in_thresh\n",
    "           and 1 <= G_attack.out_degree(u) <= out_thresh\n",
    "    ]\n",
    "len(spam_nodes)  # number of spam nodes"
   ]
  },
  {
   "cell_type": "markdown",
   "metadata": {},
   "source": [
    "# Case 1: Removing spam edges"
   ]
  },
  {
   "cell_type": "code",
   "execution_count": 49,
   "metadata": {},
   "outputs": [
    {
     "name": "stdout",
     "output_type": "stream",
     "text": [
      "Before defense → PR[6] = 2.737939e-04\n",
      "After weighted defense → PR[6] = 3.644251e-07\n"
     ]
    }
   ],
   "source": [
    "# Remove the spam‐to‐victim edges entirely\n",
    "G_prune = G_attack.copy()\n",
    "edges_to_remove = [\n",
    "    (u, v) for u in spam_nodes for v in G_attack.successors(u)\n",
    "]\n",
    "G_prune.remove_edges_from(edges_to_remove)\n",
    "\n",
    "# 2. Recompute ordinary PageRank\n",
    "pr_prune = nx.pagerank(G_prune, alpha=0.85, tol=1e-6, max_iter=100)"
   ]
  },
  {
   "cell_type": "code",
   "execution_count": 51,
   "metadata": {},
   "outputs": [
    {
     "name": "stdout",
     "output_type": "stream",
     "text": [
      "Before defense → PR[6] = 0.000273794\n",
      "After weighted defense → PR[6] = 0.000000364\n"
     ]
    }
   ],
   "source": [
    "print(f\"Before defense → PR[{target}] = {pr_attack[target]:.9f}\")\n",
    "print(f\"After weighted defense → PR[{target}] = {pr_prune[target]:.9f}\")"
   ]
  },
  {
   "cell_type": "code",
   "execution_count": 73,
   "metadata": {},
   "outputs": [
    {
     "name": "stdout",
     "output_type": "stream",
     "text": [
      "4/875713 nodes gained PageRank in the attack\n",
      "239975/875713 nodes lost PageRank after pruning\n"
     ]
    }
   ],
   "source": [
    "nodes = list(pr.keys())\n",
    "\n",
    "# Compute differences\n",
    "delta_attack = [pr_attack[n] - pr[n] for n in nodes]\n",
    "delta_prune  = [pr_prune[n]  - pr[n] for n in nodes]\n",
    "\n",
    "# How many nodes gained rank in the attack?\n",
    "gain_count = sum(1 for d in delta_attack if d > 0)\n",
    "# How many lost rank when we pruned?\n",
    "loss_count = sum(1 for n in nodes if pr_prune[n] < pr_attack[n])\n",
    "\n",
    "print(f\"{gain_count}/{len(nodes)} nodes gained PageRank in the attack\")\n",
    "print(f\"{loss_count}/{len(nodes)} nodes lost PageRank after pruning\")"
   ]
  },
  {
   "cell_type": "markdown",
   "metadata": {},
   "source": [
    "# Case 2: Decrease Page Rank by percentage deduction from Penalty"
   ]
  },
  {
   "cell_type": "code",
   "execution_count": 60,
   "metadata": {},
   "outputs": [
    {
     "name": "stdout",
     "output_type": "stream",
     "text": [
      "Node 6: penalty = 0.000282339\n",
      "Node 916308: penalty = 0.000113782\n",
      "Node 722083: penalty = 0.000097125\n",
      "Node 913197: penalty = 0.000089784\n",
      "Node 909067: penalty = 0.000073973\n",
      "Node 244888: penalty = 0.000073973\n",
      "Node 819223: penalty = 0.000073126\n",
      "Node 495084: penalty = 0.000070585\n",
      "Node 901769: penalty = 0.000067761\n",
      "Node 36292: penalty = 0.000055903\n"
     ]
    }
   ],
   "source": [
    "# Compute penalty\n",
    "penalty = {v: 0.0 for v in G_attack}\n",
    "for u in spam_nodes:\n",
    "    contrib = pr_attack[u] / G_attack.out_degree(u)\n",
    "    for v in G_attack.successors(u):\n",
    "        penalty[v] += contrib"
   ]
  },
  {
   "cell_type": "code",
   "execution_count": 68,
   "metadata": {},
   "outputs": [
    {
     "name": "stdout",
     "output_type": "stream",
     "text": [
      "Node 6: 103.12% of its PageRank came from spam\n",
      "Node 916308: 102.96% of its PageRank came from spam\n",
      "Node 913197: 102.89% of its PageRank came from spam\n",
      "Node 916055: 102.07% of its PageRank came from spam\n",
      "Node 908570: 101.45% of its PageRank came from spam\n",
      "Node 908310: 101.33% of its PageRank came from spam\n",
      "Node 901519: 100.76% of its PageRank came from spam\n",
      "Node 909342: 100.66% of its PageRank came from spam\n",
      "Node 853709: 100.57% of its PageRank came from spam\n",
      "Node 901219: 100.51% of its PageRank came from spam\n"
     ]
    }
   ],
   "source": [
    "penalty_pct = {\n",
    "    v: (penalty[v] / pr_attack[v] * 100) if pr_attack[v] > 0 else 0.0\n",
    "    for v in penalty\n",
    "}\n",
    "\n",
    "# 2) Extract the top 2 nodes by this percentage:\n",
    "top2 = sorted(\n",
    "    penalty_pct.items(),\n",
    "    key=lambda kv: kv[1],\n",
    "    reverse=True\n",
    ")[:10]\n",
    "\n",
    "# 3) Print them:\n",
    "for node, pct in top2:\n",
    "    print(f\"Node {node}: {pct:.2f}% of its PageRank came from spam\")"
   ]
  },
  {
   "cell_type": "code",
   "execution_count": 72,
   "metadata": {},
   "outputs": [
    {
     "name": "stdout",
     "output_type": "stream",
     "text": [
      "Node with max adjusted PR: 163075 (PR = 0.000938128)\n",
      "Node with min adjusted PR: 6 (PR = 0.000000000)\n"
     ]
    }
   ],
   "source": [
    "# Compute final PageRank by deducting the spam percentage\n",
    "final_pr = {\n",
    "    v: max(pr_attack[v] * (1 - (penalty_pct.get(v, 0) / 100)), 0)\n",
    "    for v in pr_attack\n",
    "}\n",
    "\n",
    "# Find the node with the highest adjusted PageRank\n",
    "node_max, pr_max = max(final_pr.items(), key=lambda kv: kv[1])\n",
    "# Find the node with the lowest adjusted PageRank\n",
    "node_min, pr_min = min(final_pr.items(), key=lambda kv: kv[1])\n",
    "\n",
    "print(f\"Node with max adjusted PR: {node_max} (PR = {pr_max:.9f})\")\n",
    "print(f\"Node with min adjusted PR: {node_min} (PR = {pr_min:.9f})\")"
   ]
  },
  {
   "cell_type": "code",
   "execution_count": 75,
   "metadata": {},
   "outputs": [
    {
     "name": "stdout",
     "output_type": "stream",
     "text": [
      "Top 20 % nodes average PR:\n",
      "  Baseline : 0.000003692\n",
      "  Attack   : 0.000003689\n",
      "  Prune    : 0.000003352\n",
      "  Reduction: 0.000003635\n"
     ]
    }
   ],
   "source": [
    "# Determine the top 20% nodes by baseline PageRank\n",
    "n = len(pr)\n",
    "top20_n = int(n * 0.20)\n",
    "top20 = sorted(pr, key=pr.get, reverse=True)[:top20_n]\n",
    "\n",
    "# 2) Compute average PR over that subset\n",
    "avg_baseline = sum(pr[v]        for v in top20) / top20_n\n",
    "avg_attack   = sum(pr_attack[v] for v in top20) / top20_n\n",
    "avg_prune    = sum(pr_prune[v]  for v in top20) / top20_n\n",
    "avg_final    = sum(final_pr[v]  for v in top20) / top20_n\n",
    "\n",
    "print(\"Top 20 % nodes average PR:\")\n",
    "print(f\"  Baseline : {avg_baseline:.9f}\")\n",
    "print(f\"  Attack   : {avg_attack:.9f}\")\n",
    "print(f\"  Prune    : {avg_prune:.9f}\")\n",
    "print(f\"  Reduction: {avg_final:.9f}\")"
   ]
  },
  {
   "cell_type": "code",
   "execution_count": 76,
   "metadata": {},
   "outputs": [
    {
     "name": "stdout",
     "output_type": "stream",
     "text": [
      "Baseline top 20% size: 175142\n",
      "Preserved after attack:   175137/175142\n",
      "Preserved after pruning:  140110/175142\n",
      "Preserved after reduction: 173674/175142\n"
     ]
    }
   ],
   "source": [
    "# Determine top 20% baseline nodes\n",
    "n = len(pr)\n",
    "top_n = int(n * 0.20)\n",
    "baseline_top20 = set(sorted(pr, key=pr.get, reverse=True)[:top_n])\n",
    "\n",
    "# Determine top 20% nodes at each stage\n",
    "attack_top20    = set(sorted(pr_attack, key=pr_attack.get, reverse=True)[:top_n])\n",
    "prune_top20     = set(sorted(pr_prune,  key=pr_prune.get,  reverse=True)[:top_n])\n",
    "reduction_top20 = set(sorted(final_pr,   key=final_pr.get,   reverse=True)[:top_n])\n",
    "\n",
    "# Compute how many baseline top-20% nodes stayed in the top 20% at each stage\n",
    "attack_preserved    = len(baseline_top20 & attack_top20)\n",
    "prune_preserved     = len(baseline_top20 & prune_top20)\n",
    "reduction_preserved = len(baseline_top20 & reduction_top20)\n",
    "\n",
    "print(f\"Baseline top 20% size: {top_n}\")\n",
    "print(f\"Preserved after attack:   {attack_preserved}/{top_n}\")\n",
    "print(f\"Preserved after pruning:  {prune_preserved}/{top_n}\")\n",
    "print(f\"Preserved after reduction: {reduction_preserved}/{top_n}\")"
   ]
  }
 ],
 "metadata": {
  "kernelspec": {
   "display_name": "Python 3",
   "language": "python",
   "name": "python3"
  },
  "language_info": {
   "codemirror_mode": {
    "name": "ipython",
    "version": 3
   },
   "file_extension": ".py",
   "mimetype": "text/x-python",
   "name": "python",
   "nbconvert_exporter": "python",
   "pygments_lexer": "ipython3",
   "version": "3.12.3"
  }
 },
 "nbformat": 4,
 "nbformat_minor": 2
}
