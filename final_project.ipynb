{
 "cells": [
  {
   "cell_type": "code",
   "execution_count": 4,
   "metadata": {},
   "outputs": [],
   "source": [
    "import networkx as nx\n",
    "\n",
    "# Path to your local edge-list file\n",
    "path = \"web-Google.txt\"\n",
    "\n",
    "# Read into a directed graph\n",
    "G = nx.read_edgelist(\n",
    "    path,\n",
    "    comments=\"#\",            # ignore SNAP header lines\n",
    "    delimiter=\"\\t\",          # tab-separated\n",
    "    create_using=nx.DiGraph(),  # build a DiGraph\n",
    "    nodetype=int             # cast node IDs to int\n",
    ")"
   ]
  },
  {
   "cell_type": "code",
   "execution_count": 6,
   "metadata": {},
   "outputs": [
    {
     "name": "stdout",
     "output_type": "stream",
     "text": [
      "Nodes: 875713\n",
      "Edges: 5105039\n"
     ]
    }
   ],
   "source": [
    "# Print basic info manually\n",
    "print(f\"Nodes: {G.number_of_nodes()}\")\n",
    "print(f\"Edges: {G.number_of_edges()}\")"
   ]
  },
  {
   "cell_type": "code",
   "execution_count": 15,
   "metadata": {},
   "outputs": [
    {
     "name": "stdout",
     "output_type": "stream",
     "text": [
      "Median PageRank value:  0.000000495\n",
      "Node closest to median:  4091 (score = 0.000000495)\n"
     ]
    }
   ],
   "source": [
    "import statistics\n",
    "\n",
    "# Compute PageRank\n",
    "pr = nx.pagerank(G, alpha=0.85, tol=1e-6, max_iter=100)\n",
    "\n",
    "# compute the median score\n",
    "median_pr = statistics.median(pr.values())\n",
    "\n",
    "# find the node whose score is closest to the median\n",
    "node_med, score_med = min(pr.items(), key=lambda kv: abs(kv[1] - median_pr))\n",
    "\n",
    "print(f\"Median PageRank value:  {median_pr:.9f}\")\n",
    "print(f\"Node closest to median:  {node_med} (score = {score_med:.9f})\")"
   ]
  },
  {
   "cell_type": "code",
   "execution_count": 16,
   "metadata": {},
   "outputs": [],
   "source": [
    "# Simulate a link-farm attack:\n",
    "# Create 100 new nodes each pointing at target\n",
    "G_attack = G.copy()\n",
    "max_id = max(G_attack.nodes())\n",
    "new_nodes = list(range(max_id+1, max_id+1+100))\n",
    "for n in new_nodes:\n",
    "    G_attack.add_edge(n, node_med)"
   ]
  },
  {
   "cell_type": "code",
   "execution_count": 17,
   "metadata": {},
   "outputs": [
    {
     "name": "stdout",
     "output_type": "stream",
     "text": [
      "After attack → node 4091 has PageRank 0.000027887\n"
     ]
    }
   ],
   "source": [
    "pr_attack = nx.pagerank(G_attack, alpha=0.85, tol=1e-6, max_iter=100)\n",
    "atk_score = pr_attack[node_med]\n",
    "print(f\"After attack → node {node_med} has PageRank {atk_score:.9f}\")"
   ]
  }
 ],
 "metadata": {
  "kernelspec": {
   "display_name": "Python 3",
   "language": "python",
   "name": "python3"
  },
  "language_info": {
   "codemirror_mode": {
    "name": "ipython",
    "version": 3
   },
   "file_extension": ".py",
   "mimetype": "text/x-python",
   "name": "python",
   "nbconvert_exporter": "python",
   "pygments_lexer": "ipython3",
   "version": "3.12.3"
  }
 },
 "nbformat": 4,
 "nbformat_minor": 2
}
